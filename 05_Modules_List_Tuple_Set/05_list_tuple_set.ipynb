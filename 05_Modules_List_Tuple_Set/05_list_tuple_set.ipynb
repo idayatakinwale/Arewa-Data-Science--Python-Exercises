{
 "cells": [
  {
   "cell_type": "markdown",
   "metadata": {},
   "source": [
    "# Module 5 Assignment Solution"
   ]
  },
  {
   "cell_type": "markdown",
   "metadata": {},
   "source": [
    "## List Exercises Level 1"
   ]
  },
  {
   "cell_type": "markdown",
   "metadata": {},
   "source": [
    "Declare an empty list"
   ]
  },
  {
   "cell_type": "code",
   "execution_count": null,
   "metadata": {},
   "outputs": [],
   "source": [
    "# Declare an empty list\n",
    "\n",
    "Empty_List = []"
   ]
  },
  {
   "cell_type": "markdown",
   "metadata": {},
   "source": [
    "Declare a list with more than 5 items"
   ]
  },
  {
   "cell_type": "code",
   "execution_count": 11,
   "metadata": {},
   "outputs": [
    {
     "name": "stdout",
     "output_type": "stream",
     "text": [
      "['cloth']\n",
      "['book', 'lamp']\n",
      "socks\n"
     ]
    }
   ],
   "source": [
    "# Declare a list with more than 5 items\n",
    "Items = ['cloth', 'fan', 'book', 'lamp', 'pencil', 'socks']\n",
    "\n",
    "# Find the length of your list\n",
    "len(Items)\n",
    "\n",
    "# Get the first item, the middle item and the last item of the list\n",
    "first_item = Items[0:1]\n",
    "print(first_item)\n",
    "\n",
    "middle_item = Items[2:4]\n",
    "print(middle_item)\n",
    "\n",
    "last_item= Items[-1]\n",
    "print(last_item)"
   ]
  },
  {
   "cell_type": "markdown",
   "metadata": {},
   "source": [
    "Declare a list called mixed_data_types, put your(name, age, height, marital status, address)"
   ]
  },
  {
   "cell_type": "code",
   "execution_count": null,
   "metadata": {},
   "outputs": [],
   "source": [
    "# Declare a list called mixed_data_types, put your(name, age, height, marital status, address)\n",
    "mixed_data_types = ['Sola', 25, 1.56, 'Married', 'Lagos']\n"
   ]
  },
  {
   "cell_type": "markdown",
   "metadata": {},
   "source": [
    "Declare a list variable named it_companies and assign initial values Facebook, Google, Microsoft, Apple, IBM, Oracle and Amazon."
   ]
  },
  {
   "cell_type": "code",
   "execution_count": 1,
   "metadata": {},
   "outputs": [
    {
     "name": "stdout",
     "output_type": "stream",
     "text": [
      "['Facebook', 'Google', 'Microsoft', 'Apple', 'IBM', 'Oracle', 'Amazon']\n",
      "7\n",
      "Facebook\n",
      "Apple\n",
      "Amazon\n",
      "['Samsung', 'Google', 'Microsoft', 'Apple', 'IBM', 'Oracle', 'Amazon']\n",
      "['Samsung', 'Google', 'Microsoft', 'Apple', 'IBM', 'Oracle', 'Amazon', 'Itel']\n",
      "['Samsung', 'Google', 'Microsoft', 'Apple', 'Airtel', 'IBM', 'Oracle', 'Amazon', 'Itel']\n",
      "['Samsung', 'Google', 'Microsoft', 'Apple', 'Airtel', 'IBM', 'Oracle', 'Amazon', 'Itel']\n"
     ]
    }
   ],
   "source": [
    "Companies = ['Facebook', 'Google', 'Microsoft', 'Apple', 'IBM', 'Oracle', 'Amazon']\n",
    "\n",
    "# Print the list using print()\n",
    "print(Companies)\n",
    "\n",
    "# Print the number of companies in the list\n",
    "print(len(Companies))\n",
    "\n",
    "# Print the first, middle and last company\n",
    "first_company = Companies[0]\n",
    "print(first_company)\n",
    "\n",
    "middle_company = Companies[3]\n",
    "print(middle_company)\n",
    "\n",
    "last_company= Companies[-1]\n",
    "print(last_company)\n",
    "\n",
    "# Print the list after modifying one of the companies\n",
    "Companies[0]= 'Samsung'\n",
    "print(Companies)\n",
    "\n",
    "# Add an IT company to companies\n",
    "Companies.append('Itel')\n",
    "print(Companies)\n",
    "\n",
    "# Insert an IT company in the middle of the companies list\n",
    "Companies.insert(4, 'Airtel')\n",
    "print(Companies)\n",
    "\n",
    "# Change one of the it_companies names to uppercase (IBM excluded!)\n",
    "Companies[1].upper()\n",
    "print(Companies)\n",
    "\n"
   ]
  },
  {
   "cell_type": "markdown",
   "metadata": {},
   "source": [
    "Check if a certain company exists in the it_companies list."
   ]
  },
  {
   "cell_type": "code",
   "execution_count": 6,
   "metadata": {},
   "outputs": [
    {
     "name": "stdout",
     "output_type": "stream",
     "text": [
      "True\n",
      "['Amazon', 'Apple', 'Facebook', 'Google', 'IBM', 'Microsoft', 'Oracle']\n",
      "['Oracle', 'Microsoft', 'IBM', 'Google', 'Facebook', 'Apple', 'Amazon']\n",
      "['Oracle', 'Microsoft', 'IBM']\n",
      "['Facebook', 'Apple', 'Amazon']\n",
      "['IBM', 'Google', 'Facebook']\n",
      "['Google', 'Microsoft', 'Apple', 'IBM', 'Oracle', 'Amazon']\n"
     ]
    }
   ],
   "source": [
    "# Check if a certain company exists in the it_companies list.\n",
    "Companies = ['Facebook', 'Google', 'Microsoft', 'Apple', 'IBM', 'Oracle', 'Amazon']\n",
    "does_exist = 'Apple' in Companies\n",
    "print(does_exist)\n",
    "\n",
    "# Sort the list using sort() method\n",
    "Companies.sort()\n",
    "print(Companies)\n",
    "\n",
    "# Reverse the list in descending order using reverse() method\n",
    "Companies.reverse()\n",
    "print(Companies)\n",
    "\n",
    "# Slice out the first 3 companies from the list\n",
    "first_3_companies= Companies[0:3]\n",
    "print(Companies[0:3])\n",
    "\n",
    "# Slice out the last 3 companies from the list\n",
    "Last_3_companies=Companies[-3:]\n",
    "print(Last_3_companies)\n",
    "\n",
    "# Slice out the middle IT company or companies from the list\n",
    "\n",
    "Middle_companies=Companies[-5:-2]\n",
    "print(Middle_companies)\n",
    "\n",
    "# Remove the first IT company from the list\n",
    "Companies = ['Facebook', 'Google', 'Microsoft', 'Apple', 'IBM', 'Oracle', 'Amazon']\n",
    "del Companies[0]\n",
    "print(Companies)\n"
   ]
  },
  {
   "cell_type": "markdown",
   "metadata": {},
   "source": [
    "Remove the middle IT company or companies from the list"
   ]
  },
  {
   "cell_type": "code",
   "execution_count": 7,
   "metadata": {},
   "outputs": [
    {
     "name": "stdout",
     "output_type": "stream",
     "text": [
      "['Facebook', 'Google', 'Microsoft', 'IBM', 'Oracle', 'Amazon']\n"
     ]
    }
   ],
   "source": [
    "Companies = ['Facebook', 'Google', 'Microsoft', 'Apple', 'IBM', 'Oracle', 'Amazon']\n",
    "del Companies[-4]\n",
    "print(Companies)\n"
   ]
  },
  {
   "cell_type": "markdown",
   "metadata": {},
   "source": [
    "Remove the last IT company from the list"
   ]
  },
  {
   "cell_type": "code",
   "execution_count": 8,
   "metadata": {},
   "outputs": [
    {
     "name": "stdout",
     "output_type": "stream",
     "text": [
      "['Facebook', 'Google', 'Microsoft', 'Apple', 'IBM', 'Oracle']\n"
     ]
    }
   ],
   "source": [
    "Companies = ['Facebook', 'Google', 'Microsoft', 'Apple', 'IBM', 'Oracle', 'Amazon']\n",
    "del Companies[-1]\n",
    "print(Companies)\n"
   ]
  },
  {
   "cell_type": "markdown",
   "metadata": {},
   "source": [
    "Remove all IT companies from the list"
   ]
  },
  {
   "cell_type": "code",
   "execution_count": 10,
   "metadata": {},
   "outputs": [
    {
     "name": "stdout",
     "output_type": "stream",
     "text": [
      "[]\n"
     ]
    }
   ],
   "source": [
    "Companies = ['Facebook', 'Google', 'Microsoft', 'Apple', 'IBM', 'Oracle', 'Amazon']\n",
    "Companies.clear()\n",
    "print(Companies)"
   ]
  },
  {
   "cell_type": "markdown",
   "metadata": {},
   "source": [
    "Join the following lists:\n",
    "\n"
   ]
  },
  {
   "cell_type": "code",
   "execution_count": 11,
   "metadata": {},
   "outputs": [
    {
     "name": "stdout",
     "output_type": "stream",
     "text": [
      "None\n"
     ]
    }
   ],
   "source": [
    "front_end = ['HTML', 'CSS', 'JS', 'React', 'Redux']\n",
    "back_end = ['Node','Express', 'MongoDB']\n",
    "Joined_list = front_end.extend(back_end)\n",
    "print(Joined_list)"
   ]
  }
 ],
 "metadata": {
  "kernelspec": {
   "display_name": "base",
   "language": "python",
   "name": "python3"
  },
  "language_info": {
   "codemirror_mode": {
    "name": "ipython",
    "version": 3
   },
   "file_extension": ".py",
   "mimetype": "text/x-python",
   "name": "python",
   "nbconvert_exporter": "python",
   "pygments_lexer": "ipython3",
   "version": "3.12.4"
  }
 },
 "nbformat": 4,
 "nbformat_minor": 2
}
