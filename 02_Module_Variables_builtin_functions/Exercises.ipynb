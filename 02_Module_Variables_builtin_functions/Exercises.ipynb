{
 "cells": [
  {
   "cell_type": "markdown",
   "metadata": {},
   "source": [
    "# Module 2 Assignment Solution"
   ]
  },
  {
   "cell_type": "markdown",
   "metadata": {},
   "source": [
    "Day 2: 30 Days of python programming"
   ]
  },
  {
   "cell_type": "markdown",
   "metadata": {},
   "source": [
    "EXERCISE LEVEL 1"
   ]
  },
  {
   "cell_type": "code",
   "execution_count": null,
   "metadata": {},
   "outputs": [],
   "source": [
    "# Question 1: Declare a first name variable and assign a value to it\n",
    "\n",
    "first_name = 'Mutmahinah'\n",
    "\n",
    "# Question 2: Declare a last name variable and assign a value to it\n",
    "\n",
    "last_name = 'Moshood'\n",
    "\n",
    "# Question 3: Declare a full name variable and assign a value to it\n",
    "\n",
    "full_name = 'Mutmahinah Moshood'\n",
    "\n",
    "# Question 4: Declare a country variable and assign a value to it\n",
    "\n",
    "Country = 'Canada'\n",
    "\n",
    "# Question 5: Declare a city variable and assign a value to it\n",
    "\n",
    "City = 'Ontario'\n",
    "\n",
    "# Question 6: Declare an age variable and assign a value to it\n",
    "Age = 25\n",
    "\n",
    "# Question 7: Declare a year variable and assign a value to it\n",
    "Year = 2000\n",
    "\n",
    "# Question 8: Declare a variable is_married and assign a value to it\n",
    "is_married = True\n",
    "\n",
    "# Question 9: Declare a variable is_true and assign a value to it\n",
    "is_true = True\n",
    "\n",
    "# Question 10: Declare a variable is_light_on and assign a value to it\n",
    "is_light_on = False\n",
    "\n",
    "# Question 11: Declare multiple variable on one line\n",
    "first_name, last_name, country, age, is_married = 'Mutmahinah', 'Moshood', 'Canada', 25, True"
   ]
  },
  {
   "cell_type": "markdown",
   "metadata": {},
   "source": [
    "EXERCISES- LEVEL 2"
   ]
  },
  {
   "cell_type": "code",
   "execution_count": null,
   "metadata": {},
   "outputs": [
    {
     "name": "stdout",
     "output_type": "stream",
     "text": [
      "<class 'str'>\n",
      "<class 'str'>\n",
      "<class 'str'>\n",
      "<class 'str'>\n",
      "<class 'str'>\n",
      "<class 'int'>\n",
      "<class 'int'>\n",
      "<class 'bool'>\n",
      "<class 'bool'>\n"
     ]
    }
   ],
   "source": [
    "# Check the data type of all your variables using type() built-in function\n",
    "\n",
    "print(type('Mutmahinah')) \n",
    "print(type('Moshood'))\n",
    "print(type('Mutmahinah Moshood'))\n",
    "print(type('Canada'))\n",
    "print(type('Ontario'))\n",
    "print(type(25))\n",
    "print(type(2000))\n",
    "print(type(True))\n",
    "print(type(False))\n"
   ]
  },
  {
   "cell_type": "code",
   "execution_count": 10,
   "metadata": {},
   "outputs": [
    {
     "name": "stdout",
     "output_type": "stream",
     "text": [
      "10\n"
     ]
    }
   ],
   "source": [
    "# Using the len() built-in function, find the length of your first name\n",
    "\n",
    "first_name = 'Mutmahinah'\n",
    "print(len(first_name))"
   ]
  },
  {
   "cell_type": "code",
   "execution_count": 11,
   "metadata": {},
   "outputs": [
    {
     "name": "stdout",
     "output_type": "stream",
     "text": [
      "10\n",
      "7\n"
     ]
    }
   ],
   "source": [
    "# Compare the length of your first name and your last name\n",
    "\n",
    "first_name = 'Mutmahinah'\n",
    "print(len(first_name))\n",
    "\n",
    "last_name = 'Moshood'\n",
    "print(len(last_name))"
   ]
  },
  {
   "cell_type": "code",
   "execution_count": 18,
   "metadata": {},
   "outputs": [
    {
     "name": "stdout",
     "output_type": "stream",
     "text": [
      "9\n",
      "1\n",
      "20\n",
      "1.25\n",
      "4\n",
      "625\n"
     ]
    }
   ],
   "source": [
    "# Declare 5 as num_one and 4 as num_two\n",
    "\n",
    "num_one = 5\n",
    "num_two = 4\n",
    "\n",
    "# Add num_one and num_two and assign the value to a variable total\n",
    "Total = num_one + num_two\n",
    "print(Total)\n",
    "\n",
    "# Subtract num_two from num_one and assign the value to a variable diff\n",
    "variable_diff = num_one - num_two\n",
    "print(variable_diff)\n",
    "\n",
    "# Multiply num_two and num_one and assign the value to a variable product\n",
    "variable_product = num_one * num_two\n",
    "print(variable_product)\n",
    "\n",
    "# Divide num_one by num_two and assign the value to a variable division\n",
    "variable_division = num_one/num_two\n",
    "print(variable_division)\n",
    "\n",
    "# Use modulus division to find num_two divided by num_one and assign the value to a variable remainder\n",
    "remainder = num_two%num_one\n",
    "print(remainder)\n",
    "\n",
    "# Calculate num_one to the power of num_two and assign the value to a variable exp\n",
    "Exp = num_one**num_two\n",
    "print(Exp)"
   ]
  }
 ],
 "metadata": {
  "kernelspec": {
   "display_name": "base",
   "language": "python",
   "name": "python3"
  },
  "language_info": {
   "codemirror_mode": {
    "name": "ipython",
    "version": 3
   },
   "file_extension": ".py",
   "mimetype": "text/x-python",
   "name": "python",
   "nbconvert_exporter": "python",
   "pygments_lexer": "ipython3",
   "version": "3.12.4"
  }
 },
 "nbformat": 4,
 "nbformat_minor": 2
}
